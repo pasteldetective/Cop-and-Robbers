{
 "cells": [
  {
   "cell_type": "markdown",
   "metadata": {},
   "source": [
    "# Graphs: Simple Small Ones"
   ]
  },
  {
   "cell_type": "markdown",
   "metadata": {},
   "source": [
    "This doc contains the following graphs:\n",
    "\n",
    "#1 Small01:\n",
    "Vertices = {1, 2, 3, 4} with Edges: The cycle (1,2), (2,3), (3,4), (4,1), and the diagonal edge (1,3).\n",
    "\n",
    "#2 Small02:\n",
    "Not yet ..."
   ]
  },
  {
   "cell_type": "code",
   "execution_count": 3,
   "metadata": {},
   "outputs": [],
   "source": [
    "#pip install networkx\n",
    "import networkx as nx"
   ]
  },
  {
   "cell_type": "code",
   "execution_count": 4,
   "metadata": {},
   "outputs": [
    {
     "name": "stdout",
     "output_type": "stream",
     "text": [
      "Small01\n",
      "Vertices: [1, 2, 3, 4]\n",
      "Edges: [(1, 2), (1, 4), (1, 3), (2, 3), (3, 4)]\n"
     ]
    }
   ],
   "source": [
    "Small01 = nx.Graph()\n",
    "Small01.add_node(1)\n",
    "Small01.add_node(2)\n",
    "Small01.add_node(3)\n",
    "Small01.add_node(4)\n",
    "\n",
    "Small01.add_edge(1,2)\n",
    "Small01.add_edge(2,3)\n",
    "Small01.add_edge(3,4)\n",
    "Small01.add_edge(1,4)\n",
    "Small01.add_edge(1,3)\n",
    "\n",
    "# To see the vertices and edges\n",
    "print(\"Small01\")\n",
    "print(\"Vertices:\", Small01.nodes)\n",
    "print(\"Edges:\", Small01.edges)"
   ]
  },
  {
   "cell_type": "code",
   "execution_count": null,
   "metadata": {},
   "outputs": [],
   "source": []
  }
 ],
 "metadata": {
  "kernelspec": {
   "display_name": "Python 3",
   "language": "python",
   "name": "python3"
  },
  "language_info": {
   "codemirror_mode": {
    "name": "ipython",
    "version": 3
   },
   "file_extension": ".py",
   "mimetype": "text/x-python",
   "name": "python",
   "nbconvert_exporter": "python",
   "pygments_lexer": "ipython3",
   "version": "3.12.2"
  }
 },
 "nbformat": 4,
 "nbformat_minor": 5
}
