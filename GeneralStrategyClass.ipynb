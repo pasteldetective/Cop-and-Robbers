{
 "cells": [
  {
   "cell_type": "markdown",
   "id": "456dd053",
   "metadata": {},
   "source": [
    "# The Strategy Class\n",
    "\n",
    "This is a simple abstract class which sets up how Strategies should be\n",
    "defined, that is defining at least 2 methods: placePieces and makeMove."
   ]
  },
  {
   "cell_type": "code",
   "execution_count": 1,
   "id": "e6eae954",
   "metadata": {},
   "outputs": [],
   "source": [
    "class Strategy:\n",
    "    '''\n",
    "    This is an abstract object which stores a player strategy.\n",
    "    '''\n",
    "\n",
    "    def __init__(self):\n",
    "        pass\n",
    "\n",
    "    def placePieces(self, game = None):\n",
    "        # Child class should specify!!\n",
    "        '''\n",
    "        Input: Game\n",
    "        Output: Initial placement\n",
    "        '''\n",
    "        \n",
    "        return None\n",
    "    \n",
    "\n",
    "    def makeMove(self, game):\n",
    "        # Child class should specify!!\n",
    "        '''\n",
    "        Input: Game\n",
    "        Output: Where move.\n",
    "        '''\n",
    "\n",
    "        return None\n",
    "\n"
   ]
  }
 ],
 "metadata": {
  "kernelspec": {
   "display_name": "Python 3",
   "language": "python",
   "name": "python3"
  },
  "language_info": {
   "codemirror_mode": {
    "name": "ipython",
    "version": 3
   },
   "file_extension": ".py",
   "mimetype": "text/x-python",
   "name": "python",
   "nbconvert_exporter": "python",
   "pygments_lexer": "ipython3",
   "version": "3.11.7"
  }
 },
 "nbformat": 4,
 "nbformat_minor": 5
}
