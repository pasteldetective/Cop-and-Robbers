{
 "cells": [
  {
   "cell_type": "markdown",
   "metadata": {},
   "source": [
    "# Strategy: (Almost) Random Cops\n",
    "\n",
    "In this strategy there are 2 cops that start at random vertices (possibly on the same vertex).  Then they move randomly on each turn to a new vertex (possibly staying still); except, if a cop is next to the robber, then the cop moves to win."
   ]
  },
  {
   "cell_type": "code",
   "execution_count": 1,
   "metadata": {},
   "outputs": [],
   "source": [
    "%run ../GeneralStrategyClass.ipynb"
   ]
  },
  {
   "cell_type": "code",
   "execution_count": 2,
   "metadata": {},
   "outputs": [],
   "source": [
    "import random"
   ]
  },
  {
   "cell_type": "code",
   "execution_count": 3,
   "metadata": {},
   "outputs": [],
   "source": [
    "class AlmostRandomCopStrategy(Strategy):\n",
    "\n",
    "    def placePieces(self, game = None):\n",
    "        cop_placement = random.sample(game.get_nodes(), 2)  # choose 2 random locations\n",
    "        return cop_placement\n",
    "\n",
    "    \n",
    "    def makeMove(self, game):\n",
    "        cop_moves = []\n",
    "        for cop in game.get_cop_loc():\n",
    "            neighbors = game.get_moves(cop)\n",
    "            robber = game.get_rob_loc()\n",
    "            if robber in neighbors:\n",
    "                # If the robber is a neighbor, move towards it\n",
    "                next_pos = robber\n",
    "            else:\n",
    "                # Move randomly to one of the neighbors\n",
    "                next_pos = random.choice(neighbors)\n",
    "                \n",
    "            cop_moves.append(next_pos)    \n",
    "            \n",
    "        return cop_moves"
   ]
  },
  {
   "cell_type": "code",
   "execution_count": null,
   "metadata": {},
   "outputs": [],
   "source": []
  }
 ],
 "metadata": {
  "kernelspec": {
   "display_name": "Python 3",
   "language": "python",
   "name": "python3"
  },
  "language_info": {
   "codemirror_mode": {
    "name": "ipython",
    "version": 3
   },
   "file_extension": ".py",
   "mimetype": "text/x-python",
   "name": "python",
   "nbconvert_exporter": "python",
   "pygments_lexer": "ipython3",
   "version": "3.8.5"
  }
 },
 "nbformat": 4,
 "nbformat_minor": 5
}
