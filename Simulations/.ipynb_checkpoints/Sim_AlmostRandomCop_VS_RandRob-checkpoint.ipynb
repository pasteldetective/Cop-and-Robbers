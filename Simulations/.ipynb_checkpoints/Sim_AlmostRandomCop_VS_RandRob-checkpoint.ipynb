{
 "cells": [
  {
   "cell_type": "markdown",
   "metadata": {},
   "source": [
    "# Simulating Almost Random Cops versus Random Robber \n",
    "\n",
    "Simulates the almost random cop strategy (with 2 cops) against the random robber strategy on some cycle graphs."
   ]
  },
  {
   "cell_type": "code",
   "execution_count": 5,
   "id": "3a6763cf",
   "metadata": {},
   "outputs": [
    {
     "name": "stdout",
     "output_type": "stream",
     "text": [
      "Small01\n",
      "Vertices: [1, 2, 3, 4]\n",
      "Edges: [(1, 2), (1, 4), (1, 3), (2, 3), (3, 4)]\n"
     ]
    }
   ],
   "source": [
    "%run ../GameClass.ipynb\n",
    "%run ../Strategies_Robber/Strategy_Rob_Random.ipynb\n",
    "%run ../Strategies_Cop/Strategy_Cop_RandomAlmost.ipynb"
   ]
  },
  {
   "cell_type": "code",
   "execution_count": 6,
   "id": "9da4bde2",
   "metadata": {},
   "outputs": [],
   "source": [
    "stratRobber = RandRobStrategy()\n",
    "stratCop = StationaryCopStrategy()\n",
    "game = Game(Small01, 2)"
   ]
  },
  {
   "cell_type": "markdown",
   "id": "503cff24",
   "metadata": {},
   "source": [
    "Repeatedly run the next line to get different simulations."
   ]
  },
  {
   "cell_type": "code",
   "execution_count": 7,
   "id": "dfd953b1",
   "metadata": {},
   "outputs": [
    {
     "name": "stdout",
     "output_type": "stream",
     "text": [
      "*** GAME START ***\n",
      "Vertices are: [1, 2, 3, 4]\n",
      "Edges are: [(1, 2), (1, 4), (1, 3), (2, 3), (3, 4)]\n",
      "Number of Turns Left: 10\n",
      "No winner yet ...\n",
      "cop 1 is at: 1\n",
      "cop 2 is at: 2\n",
      "The robber is at: 4\n",
      "*******\n",
      "\n",
      "0 [1, 2]\n",
      "1 [1, 2]\n",
      "* Cops Just Moved *\n",
      "Vertices are: [1, 2, 3, 4]\n",
      "Edges are: [(1, 2), (1, 4), (1, 3), (2, 3), (3, 4)]\n",
      "Number of Turns Left: 10\n",
      "No winner yet ...\n",
      "cop 1 is at: 1\n",
      "cop 2 is at: 2\n",
      "The robber is at: 4\n",
      "\n",
      "* Robber Just Moved *\n",
      "Vertices are: [1, 2, 3, 4]\n",
      "Edges are: [(1, 2), (1, 4), (1, 3), (2, 3), (3, 4)]\n",
      "Number of Turns Left: 9\n",
      "No winner yet ...\n",
      "cop 1 is at: 1\n",
      "cop 2 is at: 2\n",
      "The robber is at: 4\n",
      "\n",
      "0 [1, 2]\n",
      "1 [1, 2]\n",
      "* Cops Just Moved *\n",
      "Vertices are: [1, 2, 3, 4]\n",
      "Edges are: [(1, 2), (1, 4), (1, 3), (2, 3), (3, 4)]\n",
      "Number of Turns Left: 9\n",
      "No winner yet ...\n",
      "cop 1 is at: 1\n",
      "cop 2 is at: 2\n",
      "The robber is at: 4\n",
      "\n",
      "* Robber Just Moved *\n",
      "Vertices are: [1, 2, 3, 4]\n",
      "Edges are: [(1, 2), (1, 4), (1, 3), (2, 3), (3, 4)]\n",
      "Number of Turns Left: 8\n",
      "No winner yet ...\n",
      "cop 1 is at: 1\n",
      "cop 2 is at: 2\n",
      "The robber is at: 3\n",
      "\n",
      "0 [1, 2]\n",
      "1 [1, 2]\n",
      "* Cops Just Moved *\n",
      "Vertices are: [1, 2, 3, 4]\n",
      "Edges are: [(1, 2), (1, 4), (1, 3), (2, 3), (3, 4)]\n",
      "Number of Turns Left: 8\n",
      "No winner yet ...\n",
      "cop 1 is at: 1\n",
      "cop 2 is at: 2\n",
      "The robber is at: 3\n",
      "\n",
      "* Robber Just Moved *\n",
      "Vertices are: [1, 2, 3, 4]\n",
      "Edges are: [(1, 2), (1, 4), (1, 3), (2, 3), (3, 4)]\n",
      "Number of Turns Left: 7\n",
      "No winner yet ...\n",
      "cop 1 is at: 1\n",
      "cop 2 is at: 2\n",
      "The robber is at: 3\n",
      "\n",
      "0 [1, 2]\n",
      "1 [1, 2]\n",
      "* Cops Just Moved *\n",
      "Vertices are: [1, 2, 3, 4]\n",
      "Edges are: [(1, 2), (1, 4), (1, 3), (2, 3), (3, 4)]\n",
      "Number of Turns Left: 7\n",
      "No winner yet ...\n",
      "cop 1 is at: 1\n",
      "cop 2 is at: 2\n",
      "The robber is at: 3\n",
      "\n",
      "* Robber Just Moved *\n",
      "Vertices are: [1, 2, 3, 4]\n",
      "Edges are: [(1, 2), (1, 4), (1, 3), (2, 3), (3, 4)]\n",
      "Number of Turns Left: 6\n",
      "The cops have won!\n",
      "cop 1 is at: 1\n",
      "cop 2 is at: 2\n",
      "The robber is at: 2\n",
      "\n",
      "\n",
      "\n",
      "*** GAME ENDED IN THE FOLLOWING STATE ***\n",
      "Vertices are: [1, 2, 3, 4]\n",
      "Edges are: [(1, 2), (1, 4), (1, 3), (2, 3), (3, 4)]\n",
      "Number of Turns Left: 6\n",
      "The cops have won!\n",
      "cop 1 is at: 1\n",
      "cop 2 is at: 2\n",
      "The robber is at: 2\n",
      "************\n"
     ]
    }
   ],
   "source": [
    "game.play_with_printing(stratCop, stratRobber)"
   ]
  },
  {
   "cell_type": "code",
   "execution_count": null,
   "metadata": {},
   "outputs": [],
   "source": []
  }
 ],
 "metadata": {
  "kernelspec": {
   "display_name": "Python 3",
   "language": "python",
   "name": "python3"
  },
  "language_info": {
   "codemirror_mode": {
    "name": "ipython",
    "version": 3
   },
   "file_extension": ".py",
   "mimetype": "text/x-python",
   "name": "python",
   "nbconvert_exporter": "python",
   "pygments_lexer": "ipython3",
   "version": "3.8.5"
  }
 },
 "nbformat": 4,
 "nbformat_minor": 5
}
