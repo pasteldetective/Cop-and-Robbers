{
 "cells": [
  {
   "cell_type": "markdown",
   "metadata": {},
   "source": [
    "# Strategy: Random Robber\n",
    "\n",
    "In this strategy the robber starts at a random vertex of the graph\n",
    "and on each turn moves to a random neighbor (including current node),\n",
    "choosing with equal probability among the options."
   ]
  },
  {
   "cell_type": "code",
   "execution_count": 4,
   "metadata": {},
   "outputs": [],
   "source": [
    "%run ../GeneralStrategyClass.ipynb\n",
    "from random import *"
   ]
  },
  {
   "cell_type": "code",
   "execution_count": 5,
   "metadata": {},
   "outputs": [],
   "source": [
    "class RandRobStrategy(Strategy):\n",
    "\n",
    "    def placePieces(self, game):\n",
    "        nodes = list(game.get_nodes())\n",
    "        return choice(nodes)\n",
    "    \n",
    "    \n",
    "    def makeMove(self, game):\n",
    "        nodes = game.get_moves(game.get_rob_loc())\n",
    "        return choice(nodes)"
   ]
  },
  {
   "cell_type": "code",
   "execution_count": null,
   "metadata": {},
   "outputs": [],
   "source": []
  }
 ],
 "metadata": {
  "kernelspec": {
   "display_name": "Python 3",
   "language": "python",
   "name": "python3"
  },
  "language_info": {
   "codemirror_mode": {
    "name": "ipython",
    "version": 3
   },
   "file_extension": ".py",
   "mimetype": "text/x-python",
   "name": "python",
   "nbconvert_exporter": "python",
   "pygments_lexer": "ipython3",
   "version": "3.8.5"
  }
 },
 "nbformat": 4,
 "nbformat_minor": 5
}
