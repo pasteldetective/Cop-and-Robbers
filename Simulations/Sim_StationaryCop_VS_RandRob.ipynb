{
 "cells": [
  {
   "cell_type": "markdown",
   "metadata": {},
   "source": [
    "# Simulating Stationary Cops versus Random Robber \n",
    "\n",
    "Simulates the stationary cop strategy (with 2 cops) against the random robber strategy on the graph Small01."
   ]
  },
  {
   "cell_type": "code",
   "execution_count": 1,
   "metadata": {},
   "outputs": [
    {
     "name": "stderr",
     "output_type": "stream",
     "text": [
      "c:\\Users\\yu_we\\AppData\\Local\\Programs\\Python\\Python312\\Lib\\site-packages\\nbformat\\__init__.py:96: MissingIDFieldWarning: Cell is missing an id field, this will become a hard error in future nbformat versions. You may want to use `normalize()` on your notebooks before validations (available since nbformat 5.1.4). Previous versions of nbformat are fixing this issue transparently, and will stop doing so in the future.\n",
      "  validate(nb)\n"
     ]
    },
    {
     "name": "stdout",
     "output_type": "stream",
     "text": [
      "Small01\n",
      "Vertices: [1, 2, 3, 4]\n",
      "Edges: [(1, 2), (1, 4), (1, 3), (2, 3), (3, 4)]\n"
     ]
    }
   ],
   "source": [
    "%run ../GameClass.ipynb\n",
    "%run ../Graphs/Graphs_Simple_Small_Ones.ipynb\n",
    "\n",
    "%run ../Strategies_Robber/Strategy_Rob_Random.ipynb\n",
    "%run ../Strategies_Cop/Strategy_Cop_Stationary.ipynb"
   ]
  },
  {
   "cell_type": "code",
   "execution_count": 2,
   "metadata": {},
   "outputs": [],
   "source": [
    "stratRobber = RandRobStrategy()\n",
    "stratCop = StationaryCopStrategy()\n",
    "game = Game(Small01, 2)"
   ]
  },
  {
   "cell_type": "markdown",
   "metadata": {},
   "source": [
    "Repeatedly run the next line to get different simulations."
   ]
  },
  {
   "cell_type": "code",
   "execution_count": 3,
   "metadata": {},
   "outputs": [
    {
     "name": "stdout",
     "output_type": "stream",
     "text": [
      "*** GAME START ***\n",
      "Vertices are: [1, 2, 3, 4]\n",
      "Edges are: [(1, 2), (1, 4), (1, 3), (2, 3), (3, 4)]\n",
      "Number of Turns Left: 10\n",
      "The cops have won!\n",
      "cop 1 is at: 1\n",
      "cop 2 is at: 2\n",
      "The robber is at: 2\n",
      "*******\n",
      "\n",
      "\n",
      "\n",
      "*** GAME ENDED IN THE FOLLOWING STATE ***\n",
      "Vertices are: [1, 2, 3, 4]\n",
      "Edges are: [(1, 2), (1, 4), (1, 3), (2, 3), (3, 4)]\n",
      "Number of Turns Left: 10\n",
      "The cops have won!\n",
      "cop 1 is at: 1\n",
      "cop 2 is at: 2\n",
      "The robber is at: 2\n",
      "************\n"
     ]
    }
   ],
   "source": [
    "game.play_with_printing(stratCop, stratRobber)"
   ]
  },
  {
   "cell_type": "code",
   "execution_count": null,
   "metadata": {},
   "outputs": [],
   "source": []
  }
 ],
 "metadata": {
  "kernelspec": {
   "display_name": "Python 3",
   "language": "python",
   "name": "python3"
  },
  "language_info": {
   "codemirror_mode": {
    "name": "ipython",
    "version": 3
   },
   "file_extension": ".py",
   "mimetype": "text/x-python",
   "name": "python",
   "nbconvert_exporter": "python",
   "pygments_lexer": "ipython3",
   "version": "3.12.2"
  }
 },
 "nbformat": 4,
 "nbformat_minor": 5
}
