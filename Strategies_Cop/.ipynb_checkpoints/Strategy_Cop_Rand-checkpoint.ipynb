{
 "cells": [
  {
   "cell_type": "markdown",
   "metadata": {},
   "source": [
    "# Strategy: Stationary Cops\n",
    "\n",
    "In this strategy the cops start at distinct vertices from the lowest to the highest.  Then they remain in that position the entire game without moving."
   ]
  },
  {
   "cell_type": "code",
   "execution_count": 1,
   "metadata": {},
   "outputs": [],
   "source": [
    "%run ../GeneralStrategyClass.ipynb"
   ]
  },
  {
   "cell_type": "code",
   "execution_count": 2,
   "metadata": {},
   "outputs": [],
   "source": [
    "class StationaryCopStrategy(Strategy):\n",
    "\n",
    "    def placePieces(self, game = None):\n",
    "        nodes = list(game.get_nodes())\n",
    "        cop_start = []\n",
    "        for i in range( game.get_num_cops() ):\n",
    "            cop_start.append(nodes[i])\n",
    "            \n",
    "        return cop_start\n",
    "    \n",
    "    \n",
    "    def makeMove(self, game):\n",
    "        return( game.get_cop_loc() )"
   ]
  },
  {
   "cell_type": "code",
   "execution_count": null,
   "metadata": {},
   "outputs": [],
   "source": []
  }
 ],
 "metadata": {
  "kernelspec": {
   "display_name": "Python 3",
   "language": "python",
   "name": "python3"
  },
  "language_info": {
   "codemirror_mode": {
    "name": "ipython",
    "version": 3
   },
   "file_extension": ".py",
   "mimetype": "text/x-python",
   "name": "python",
   "nbconvert_exporter": "python",
   "pygments_lexer": "ipython3",
   "version": "3.8.5"
  }
 },
 "nbformat": 4,
 "nbformat_minor": 5
}
